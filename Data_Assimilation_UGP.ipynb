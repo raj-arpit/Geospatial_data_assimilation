{
  "cells": [
    {
      "cell_type": "code",
      "execution_count": null,
      "metadata": {
        "colab": {
          "base_uri": "https://localhost:8080/"
        },
        "id": "SGchBJTJtd58",
        "outputId": "2acbbd02-c19e-479b-e6c6-8de1f409022c"
      },
      "outputs": [
        {
          "output_type": "stream",
          "name": "stdout",
          "text": [
            "Collecting netCDF4\n",
            "  Downloading netCDF4-1.7.2-cp310-cp310-manylinux_2_17_x86_64.manylinux2014_x86_64.whl.metadata (1.8 kB)\n",
            "Collecting cftime (from netCDF4)\n",
            "  Downloading cftime-1.6.4.post1-cp310-cp310-manylinux_2_17_x86_64.manylinux2014_x86_64.whl.metadata (8.7 kB)\n",
            "Requirement already satisfied: certifi in /usr/local/lib/python3.10/dist-packages (from netCDF4) (2024.8.30)\n",
            "Requirement already satisfied: numpy in /usr/local/lib/python3.10/dist-packages (from netCDF4) (1.26.4)\n",
            "Downloading netCDF4-1.7.2-cp310-cp310-manylinux_2_17_x86_64.manylinux2014_x86_64.whl (9.1 MB)\n",
            "\u001b[2K   \u001b[90m━━━━━━━━━━━━━━━━━━━━━━━━━━━━━━━━━━━━━━━━\u001b[0m \u001b[32m9.1/9.1 MB\u001b[0m \u001b[31m22.5 MB/s\u001b[0m eta \u001b[36m0:00:00\u001b[0m\n",
            "\u001b[?25hDownloading cftime-1.6.4.post1-cp310-cp310-manylinux_2_17_x86_64.manylinux2014_x86_64.whl (1.3 MB)\n",
            "\u001b[2K   \u001b[90m━━━━━━━━━━━━━━━━━━━━━━━━━━━━━━━━━━━━━━━━\u001b[0m \u001b[32m1.3/1.3 MB\u001b[0m \u001b[31m16.7 MB/s\u001b[0m eta \u001b[36m0:00:00\u001b[0m\n",
            "\u001b[?25hInstalling collected packages: cftime, netCDF4\n",
            "Successfully installed cftime-1.6.4.post1 netCDF4-1.7.2\n"
          ]
        }
      ],
      "source": [
        "!pip install netCDF4"
      ]
    },
    {
      "cell_type": "code",
      "source": [
        "!pip install pykrige"
      ],
      "metadata": {
        "colab": {
          "base_uri": "https://localhost:8080/"
        },
        "id": "93mNXkiDlKBv",
        "outputId": "b53e08b7-e586-4635-e63c-bece3ae0f2b1"
      },
      "execution_count": null,
      "outputs": [
        {
          "output_type": "stream",
          "name": "stdout",
          "text": [
            "Collecting pykrige\n",
            "  Downloading PyKrige-1.7.2-cp310-cp310-manylinux_2_17_x86_64.manylinux2014_x86_64.whl.metadata (8.1 kB)\n",
            "Requirement already satisfied: numpy>=1.20.0 in /usr/local/lib/python3.10/dist-packages (from pykrige) (1.26.4)\n",
            "Requirement already satisfied: scipy<2,>=1.1.0 in /usr/local/lib/python3.10/dist-packages (from pykrige) (1.13.1)\n",
            "Downloading PyKrige-1.7.2-cp310-cp310-manylinux_2_17_x86_64.manylinux2014_x86_64.whl (909 kB)\n",
            "\u001b[?25l   \u001b[90m━━━━━━━━━━━━━━━━━━━━━━━━━━━━━━━━━━━━━━━━\u001b[0m \u001b[32m0.0/909.7 kB\u001b[0m \u001b[31m?\u001b[0m eta \u001b[36m-:--:--\u001b[0m\r\u001b[2K   \u001b[91m━━━━━━━━━━━━━━━\u001b[0m\u001b[90m╺\u001b[0m\u001b[90m━━━━━━━━━━━━━━━━━━━━━━━━\u001b[0m \u001b[32m348.2/909.7 kB\u001b[0m \u001b[31m10.2 MB/s\u001b[0m eta \u001b[36m0:00:01\u001b[0m\r\u001b[2K   \u001b[90m━━━━━━━━━━━━━━━━━━━━━━━━━━━━━━━━━━━━━━━━\u001b[0m \u001b[32m909.7/909.7 kB\u001b[0m \u001b[31m14.3 MB/s\u001b[0m eta \u001b[36m0:00:00\u001b[0m\n",
            "\u001b[?25hInstalling collected packages: pykrige\n",
            "Successfully installed pykrige-1.7.2\n"
          ]
        }
      ]
    },
    {
      "cell_type": "code",
      "execution_count": null,
      "metadata": {
        "id": "OND37dQCtLmB"
      },
      "outputs": [],
      "source": [
        "import os\n",
        "import csv\n",
        "import numpy as np\n",
        "import pandas as pd\n",
        "import matplotlib.pyplot as plt\n",
        "import netCDF4 as nc\n",
        "import netCDF4 as nc\n",
        "from netCDF4 import Dataset\n",
        "from datetime import datetime\n",
        "import pykrige\n",
        "from pykrige.ok import OrdinaryKriging"
      ]
    },
    {
      "cell_type": "markdown",
      "source": [
        "# Data Preprocessing"
      ],
      "metadata": {
        "id": "pusGY0_VExn3"
      }
    },
    {
      "cell_type": "code",
      "source": [
        "# Latitude and longitude bounds\n",
        "lat_min, lat_max = 26, 29\n",
        "lon_min, lon_max = 80, 83"
      ],
      "metadata": {
        "id": "VqV7gKFfPkC7"
      },
      "execution_count": null,
      "outputs": []
    },
    {
      "cell_type": "markdown",
      "source": [
        "##Extracting ESACCI Data as a CSV"
      ],
      "metadata": {
        "id": "Zb1RpP7jElIb"
      }
    },
    {
      "cell_type": "code",
      "source": [
        "esacci_path = '/content/drive/MyDrive/UGP/ESA_CCI_Daily_Files'\n",
        "\n",
        "# https://drive.google.com/drive/folders/133Ip4LkzJ_fA_6YQX6uwFRnUZcf22yip?usp=sharing"
      ],
      "metadata": {
        "id": "TuFz8wgW-kex"
      },
      "execution_count": null,
      "outputs": []
    },
    {
      "cell_type": "code",
      "source": [
        "\n",
        "def extract_soil_moisture(esacci_path, lat_min, lat_max, lon_min, lon_max):\n",
        "  \"\"\"\n",
        "  Extracts soil moisture data from ESA CCI NetCDF files within a geographical bound\n",
        "  and saves it to a CSV.\n",
        "\n",
        "  Args:\n",
        "    esacci_path: Path to the directory containing ESA CCI .nc files.\n",
        "    lat_min: Minimum latitude of the bounding box.\n",
        "    lat_max: Maximum latitude of the bounding box.\n",
        "    lon_min: Minimum longitude of the bounding box.\n",
        "    lon_max: Maximum longitude of the bounding box.\n",
        "\n",
        "  Returns:\n",
        "    None. Saves the extracted data to a CSV file named 'esa_cci_soil_moisture.csv'.\n",
        "  \"\"\"\n",
        "\n",
        "  data = []\n",
        "  for filename in os.listdir(esacci_path):\n",
        "    if filename.endswith(\".nc\"):\n",
        "      filepath = os.path.join(esacci_path, filename)\n",
        "      with nc.Dataset(filepath, 'r') as ds:\n",
        "        lat = ds['lat'][:]\n",
        "        lon = ds['lon'][:]\n",
        "        sm = ds['sm'][0, :, :]  # Since the time is fixed at 0\n",
        "\n",
        "        # lat/lon indices within the bound\n",
        "        lat_indices = np.where((lat >= lat_min) & (lat <= lat_max))[0]\n",
        "        lon_indices = np.where((lon >= lon_min) & (lon <= lon_max))[0]\n",
        "\n",
        "        # date from the 'time_coverage_start' attribute\n",
        "        date_str = ds.time_coverage_start[:8]\n",
        "        date = datetime.strptime(date_str, '%Y%m%d').strftime('%Y-%m-%d')\n",
        "\n",
        "        # Extract soil moisture for all lat/lon combinations within the bound\n",
        "        for lat_idx in lat_indices:\n",
        "          for lon_idx in lon_indices:\n",
        "            sm_value = sm[lat_idx, lon_idx]\n",
        "            data.append([date, lat[lat_idx], lon[lon_idx], sm_value])\n",
        "\n",
        "  # Create a Pandas DataFrame and save to CSV\n",
        "  df = pd.DataFrame(data, columns=['date', 'latitude', 'longitude', 'soil_moisture'])\n",
        "  # Sorting by date, latitude and longitude and saving as a csv\n",
        "  df = df.sort_values(by=['date', 'latitude', 'longitude'])\n",
        "  df.to_csv('esa_cci_soil_moisture.csv', index=False)"
      ],
      "metadata": {
        "id": "O5GFuB1A-xus"
      },
      "execution_count": null,
      "outputs": []
    },
    {
      "cell_type": "code",
      "source": [
        "extract_soil_moisture(esacci_path, lat_min, lat_max, lon_min, lon_max)"
      ],
      "metadata": {
        "id": "1LPoicQ7Dl7J"
      },
      "execution_count": null,
      "outputs": []
    },
    {
      "cell_type": "markdown",
      "source": [
        "## Extracting SMAP 9KM Datset as a CSV\n",
        "\n"
      ],
      "metadata": {
        "id": "P2zoEiCWE5nP"
      }
    },
    {
      "cell_type": "code",
      "source": [
        "import ee"
      ],
      "metadata": {
        "id": "uBiehH40FEB3"
      },
      "execution_count": null,
      "outputs": []
    },
    {
      "cell_type": "code",
      "source": [
        "ee.Authenticate()"
      ],
      "metadata": {
        "id": "hkMiN-NKFL7f"
      },
      "execution_count": null,
      "outputs": []
    },
    {
      "cell_type": "code",
      "source": [
        "import pandas as pd\n",
        "\n",
        "# Initializing the Earth Engine API\n",
        "ee.Initialize(project=\"ee-rajarpitara\")\n",
        "\n",
        "# Region and date range\n",
        "region = ee.Geometry.Rectangle([lon_min, lat_min, lon_max, lat_max])\n",
        "start_date = '2021-01-01'\n",
        "end_date = '2022-12-31'\n",
        "\n",
        "# SMAP dataset\n",
        "smap_collection = (\n",
        "    ee.ImageCollection(\"NASA/SMAP/SPL3SMP_E/005\")\n",
        "    .filterBounds(region)\n",
        "    .filterDate(start_date, end_date)\n",
        "    .select(\"soil_moisture_am\")\n",
        ")\n",
        "\n",
        "# Function to extract data from each image in the collection\n",
        "def extract_data(image):\n",
        "    date = ee.Date(image.get(\"system:time_start\")).format(\"YYYY-MM-dd\")\n",
        "    # Sampling the region to get coordinates and soil moisture values\n",
        "    samples = image.sample(\n",
        "        region=region,\n",
        "        scale=9000,  # SMAP 9 km resolution\n",
        "        projection=image.projection(),\n",
        "        geometries=True\n",
        "    )\n",
        "    # Date property for each sampled point\n",
        "    samples = samples.map(lambda point: point.set('date', date))\n",
        "    return samples\n",
        "\n",
        "# Function and get the data as a FeatureCollection\n",
        "sampled_features = smap_collection.map(extract_data).flatten()\n",
        "\n",
        "task = ee.batch.Export.table.toDrive(\n",
        "    collection=sampled_features,\n",
        "    description=\"smap_9km_data\",\n",
        "    folder=\"/content/drive/MyDrive/UGP\",\n",
        "    fileFormat=\"CSV\"\n",
        ")\n",
        "\n",
        "task.start()"
      ],
      "metadata": {
        "id": "QKsb7lgCGXti"
      },
      "execution_count": null,
      "outputs": []
    },
    {
      "cell_type": "markdown",
      "source": [
        "The resulting csv was in a format that had to be pre-processed further to align its structure with the other csv files in the environment."
      ],
      "metadata": {
        "id": "6Zz5bgfzcSbm"
      }
    },
    {
      "source": [
        "import pandas as pd\n",
        "\n",
        "df = pd.read_csv('/content/smap_9km_data.csv')\n",
        "\n",
        "# Function to evaluate JSON-like strings\n",
        "def safe_eval(x):\n",
        "    x = x.replace('false', 'False').replace('true', 'True')\n",
        "    return eval(x)\n",
        "\n",
        "# Extracting latitude and longitude from the '.geo' column\n",
        "df['latitude'] = df['.geo'].apply(lambda x: pd.json_normalize(safe_eval(x))['coordinates'][0][1])\n",
        "df['longitude'] = df['.geo'].apply(lambda x: pd.json_normalize(safe_eval(x))['coordinates'][0][0])\n",
        "\n",
        "new_df = df[['date', 'latitude', 'longitude', 'soil_moisture_am']]\n",
        "new_df = new_df.rename(columns={'soil_moisture_am': 'soil_moisture'})\n",
        "new_df.to_csv('smap_9km_soil_moisture.csv', index=False)"
      ],
      "cell_type": "code",
      "metadata": {
        "id": "dZTHIgzpZV-O"
      },
      "execution_count": null,
      "outputs": []
    },
    {
      "cell_type": "markdown",
      "source": [
        "##Dataset Cleaning"
      ],
      "metadata": {
        "id": "yjaVN_Q5EhC3"
      }
    },
    {
      "cell_type": "markdown",
      "source": [
        "The main aim here was to get rid of fill values and non numeric values that cause compilation errorrs."
      ],
      "metadata": {
        "id": "Iyi72-bmczpQ"
      }
    },
    {
      "cell_type": "code",
      "source": [
        "import csv\n",
        "\n",
        "def clean_csv(input_file, output_file):\n",
        "    with open(input_file, mode='r') as infile, open(output_file, mode='w', newline='') as outfile:\n",
        "        reader = csv.reader(infile)\n",
        "        writer = csv.writer(outfile)\n",
        "\n",
        "        # Copying the header to the new file\n",
        "        header = next(reader)\n",
        "        writer.writerow(header)\n",
        "\n",
        "        # Filtering out rows where soil_moisture is '--'\n",
        "        for row in reader:\n",
        "            # Converting the soil moisture value to a float before comparison\n",
        "            try:\n",
        "                soil_moisture = float(row[3])\n",
        "                if soil_moisture > 0:\n",
        "                    writer.writerow(row)\n",
        "            except ValueError:\n",
        "                # To handle cases where conversion to float fails (e.g., non-numeric data)\n",
        "                pass # Skipping the rows that cannot be converted to float"
      ],
      "metadata": {
        "id": "hYwIJGc2EMU5"
      },
      "execution_count": null,
      "outputs": []
    },
    {
      "cell_type": "code",
      "source": [
        "esa_cci_csv = '/content/esa_cci_soil_moisture.csv'\n",
        "clean_esa_cci_csv = '/content/clean_esa_cci_soil_moisture.csv'\n",
        "clean_csv(esa_cci_csv, clean_esa_cci_csv)"
      ],
      "metadata": {
        "id": "vAZ_8ZWKauRH"
      },
      "execution_count": null,
      "outputs": []
    },
    {
      "cell_type": "code",
      "source": [
        "smap_csv = '/content/smap_9km_soil_moisture.csv'\n",
        "clean_smap_csv = '/content/clean_smap_9km_soil_moisture.csv'\n",
        "clean_csv(smap_csv, clean_smap_csv)"
      ],
      "metadata": {
        "id": "H0Zr9d5Sm-6X"
      },
      "execution_count": null,
      "outputs": []
    },
    {
      "cell_type": "code",
      "source": [
        "# number of datapoints per date for the clean smap data\n",
        "clean_smap_data = pd.read_csv('/content/clean_smap_9km_soil_moisture.csv')\n",
        "clean_smap_data['date'] = pd.to_datetime(clean_smap_data['date'])\n",
        "grid_points_per_date = clean_smap_data.groupby('date').size()\n",
        "grid_points_per_date"
      ],
      "metadata": {
        "id": "EgWloGraPGuX"
      },
      "execution_count": null,
      "outputs": []
    },
    {
      "cell_type": "markdown",
      "source": [
        "The smap dataset here had soil moisture values in the given region on ~330 days. By the number of grid points, I imply the number of (lat, lon) pairs at which the dataset had the soil moisture values for on a given day. The maximum value of grid points that was observed in this dataset was 1369 (which would also be the number of points in a uniform grid drawn from the min and max (lat, lon) values as observed in the dataset at the smap resolution. I have kept only the days where the min number of points avaialable in our region of interest is > 1250. This avoids days with patchy coverage in the region and smoothens the spatial alignment process."
      ],
      "metadata": {
        "id": "Robu5kL3cw6i"
      }
    },
    {
      "cell_type": "code",
      "source": [
        "# dropping dates with <1250 points\n",
        "clean_smap_data = clean_smap_data[clean_smap_data['date'].isin(grid_points_per_date[grid_points_per_date >= 1250].index)]\n",
        "clean_smap_data.to_csv('/content/clean_smap_9km_soil_moisture.csv', index=False)"
      ],
      "metadata": {
        "id": "as5vME08PciV"
      },
      "execution_count": null,
      "outputs": []
    },
    {
      "cell_type": "code",
      "source": [
        "# number of unique dates\n",
        "clean_smap_data['date'].nunique()"
      ],
      "metadata": {
        "colab": {
          "base_uri": "https://localhost:8080/"
        },
        "id": "9XDD9SOlcZSZ",
        "outputId": "2fc844d5-0d61-4e5c-c2eb-369b3207129f"
      },
      "execution_count": null,
      "outputs": [
        {
          "output_type": "execute_result",
          "data": {
            "text/plain": [
              "182"
            ]
          },
          "metadata": {},
          "execution_count": 6
        }
      ]
    },
    {
      "cell_type": "markdown",
      "source": [
        "There were minor precision issues in the lat, lon values in the clean dataset. Which meant that for a given grid point the time series of soil moisture values was very sparse. Applying a tolerance of 1e-5 to the coordinates significantly improved the data coverage and consistency.![Screenshot 2024-11-23 153945.png](data:image/png;base64,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)"
      ],
      "metadata": {
        "id": "n4YQOQ8eenUP"
      }
    },
    {
      "cell_type": "code",
      "source": [
        "# Function to round coordinates based on a tolerance\n",
        "def process_smap_with_tolerance(data, tolerance=1e-5):\n",
        "    \"\"\"\n",
        "    Rounds latitude and longitude coordinates in the dataset to the specified tolerance.\n",
        "\n",
        "    Args:\n",
        "        data (pd.DataFrame): The SMAP dataset with 'latitude' and 'longitude' columns.\n",
        "        tolerance (float): The precision to round the coordinates (default: 1e-5).\n",
        "\n",
        "    Returns:\n",
        "        pd.DataFrame: Processed dataset with rounded latitude and longitude.\n",
        "    \"\"\"\n",
        "    # Number of decimal places based on the tolerance\n",
        "    decimal_places = int(-np.log10(tolerance))\n",
        "\n",
        "    # Rounding latitude and longitude to the specified precision\n",
        "    data['latitude'] = data['latitude'].round(decimal_places)\n",
        "    data['longitude'] = data['longitude'].round(decimal_places)\n",
        "\n",
        "    return data\n",
        "\n",
        "tolerance = 1e-5\n",
        "processed_smap_data = process_smap_with_tolerance(clean_smap_data, tolerance)\n",
        "processed_smap_data.sort_values(by=['date', 'latitude', 'longitude'], inplace=True)\n",
        "\n",
        "# Processed dataset\n",
        "processed_smap_data.to_csv(\"processed_clean_smap_data_with_tolerance.csv\", index=False)"
      ],
      "metadata": {
        "id": "Kfb4iuP3L3v1"
      },
      "execution_count": null,
      "outputs": []
    },
    {
      "cell_type": "markdown",
      "source": [
        "#Spatial kriging and temporal alignment of the ESA CCI and SMAP datasets"
      ],
      "metadata": {
        "id": "xV60KLQmbu6W"
      }
    },
    {
      "cell_type": "markdown",
      "source": [
        "##  Creating a uniform spatial grid"
      ],
      "metadata": {
        "id": "_J1rqr06egp8"
      }
    },
    {
      "cell_type": "code",
      "source": [
        "smap_data = pd.read_csv('/content/processed_clean_smap_data_with_tolerance.csv')"
      ],
      "metadata": {
        "id": "U9E2K3gPoQoL"
      },
      "execution_count": null,
      "outputs": []
    },
    {
      "cell_type": "markdown",
      "source": [
        "I created this grid to project both the ESA CCI and SMAP dataset onto it to make sure that the datasets are spatially aligned. Also, the grid spans not across the original minimum and maximum coordinate values in the processed dataset (which would have been 1369), but only across a modified min max pair to account for the edge cases."
      ],
      "metadata": {
        "id": "W2hF0CYDg00S"
      }
    },
    {
      "cell_type": "code",
      "source": [
        "# Uniform Grid\n",
        "resolution = 0.08085\n",
        "lat_min, lat_max = smap_data['latitude'].min()+2*resolution, smap_data['latitude'].max()-2*resolution\n",
        "lon_min, lon_max = smap_data['longitude'].min()+2*resolution, smap_data['longitude'].max()-2*resolution\n",
        "uniform_latitudes = np.arange(lat_min, lat_max + resolution, resolution)\n",
        "uniform_longitudes = np.arange(lon_min, lon_max + resolution, resolution)\n",
        "uniform_grid = np.array(np.meshgrid(uniform_latitudes, uniform_longitudes)).T.reshape(-1, 2)\n",
        "uniform_grid_df = pd.DataFrame(uniform_grid, columns=['latitude', 'longitude'])"
      ],
      "metadata": {
        "id": "GLu2ycDRbQ-S"
      },
      "execution_count": null,
      "outputs": []
    },
    {
      "cell_type": "code",
      "source": [
        "# number of grid points\n",
        "len(uniform_grid)"
      ],
      "metadata": {
        "colab": {
          "base_uri": "https://localhost:8080/"
        },
        "id": "W9lGlsX7bZ_D",
        "outputId": "19241c50-f70b-41da-a196-91af35f5a222"
      },
      "execution_count": null,
      "outputs": [
        {
          "output_type": "execute_result",
          "data": {
            "text/plain": [
              "1089"
            ]
          },
          "metadata": {},
          "execution_count": 57
        }
      ]
    },
    {
      "cell_type": "markdown",
      "source": [
        "## Projecting ESA CCI Data on the fine uniform grid using kriging"
      ],
      "metadata": {
        "id": "fTFtlMQ5xhJx"
      }
    },
    {
      "cell_type": "code",
      "source": [
        "clean_esa_cci_data = pd.read_csv('/content/clean_esa_cci_soil_moisture.csv')"
      ],
      "metadata": {
        "id": "T7rG7eYfaM6V"
      },
      "execution_count": null,
      "outputs": []
    },
    {
      "cell_type": "code",
      "source": [
        "from scipy.spatial.distance import pdist, squareform\n",
        "from pykrige.ok import OrdinaryKriging\n",
        "from sklearn.metrics import mean_squared_error\n",
        "from scipy.optimize import curve_fit"
      ],
      "metadata": {
        "id": "m5j9Xo_IU3P1"
      },
      "execution_count": null,
      "outputs": []
    },
    {
      "cell_type": "code",
      "source": [
        "# Experimental variogram function\n",
        "def experimental_variogram(data, num_lags=20):\n",
        "    coords = data[['latitude', 'longitude']].values\n",
        "    values = data['soil_moisture'].values\n",
        "    distances = pdist(coords)\n",
        "    value_diffs = pdist(values[:, None]) ** 2\n",
        "    max_distance = distances.max()\n",
        "    bins = np.linspace(0, max_distance, num_lags + 1)\n",
        "    bin_indices = np.digitize(distances, bins)\n",
        "    lags = 0.5 * (bins[:-1] + bins[1:])\n",
        "    semivariance = [\n",
        "        value_diffs[bin_indices == i].mean() / 2.0 if (bin_indices == i).sum() > 0 else np.nan\n",
        "        for i in range(1, len(bins))\n",
        "    ]\n",
        "    return lags, np.array(semivariance)\n",
        "\n",
        "# Theoretical variogram models\n",
        "def spherical_model(h, nugget, sill, range_):\n",
        "    return np.where(\n",
        "        h <= range_,\n",
        "        nugget + (sill - nugget) * (1.5 * (h / range_) - 0.5 * (h / range_)**3),\n",
        "        sill\n",
        "    )\n",
        "\n",
        "def exponential_model(h, nugget, sill, range_):\n",
        "    return nugget + (sill - nugget) * (1 - np.exp(-h / range_))\n",
        "\n",
        "def gaussian_model(h, nugget, sill, range_):\n",
        "    return nugget + (sill - nugget) * (1 - np.exp(-(h / range_)**2))\n",
        "\n",
        "def power_model(h, nugget, sill, exponent):\n",
        "    return nugget + sill * (h**exponent)\n",
        "\n",
        "# Fitting variogram models and selecting the best fit\n",
        "def fit_best_variogram(lags, semivariance):\n",
        "    models = {\n",
        "        'spherical': spherical_model,\n",
        "        'exponential': exponential_model,\n",
        "        'gaussian': gaussian_model,\n",
        "        'power': power_model\n",
        "    }\n",
        "    best_model = None\n",
        "    best_params = None\n",
        "    best_error = float('inf')\n",
        "\n",
        "    for name, model in models.items():\n",
        "        valid = ~np.isnan(semivariance)\n",
        "        try:\n",
        "            if name == 'power':\n",
        "                params, _ = curve_fit(\n",
        "                    model, lags[valid], semivariance[valid],\n",
        "                    bounds=([0, 0, 0], [np.inf, np.inf, 2])  # Exponent bound: [0, 2]\n",
        "                )\n",
        "            else:\n",
        "                params, _ = curve_fit(\n",
        "                    model, lags[valid], semivariance[valid],\n",
        "                    bounds=([0, 0, 0], [np.inf, np.inf, lags.max()])\n",
        "                )\n",
        "            fitted_values = model(lags, *params)\n",
        "            error = np.sum((fitted_values[valid] - semivariance[valid])**2)\n",
        "            if error < best_error:\n",
        "                best_model = name\n",
        "                best_params = params\n",
        "                best_error = error\n",
        "        except:\n",
        "            continue\n",
        "\n",
        "    return best_model, best_params"
      ],
      "metadata": {
        "id": "5AHj-V9ge6gF"
      },
      "execution_count": null,
      "outputs": []
    },
    {
      "cell_type": "markdown",
      "source": [
        "I have used dynamic selection of variogram models to account for changes in the spatial variability with time."
      ],
      "metadata": {
        "id": "h3YWOyibhsEV"
      }
    },
    {
      "cell_type": "code",
      "source": [
        "# Processing each date independently to evaluate the best variogram\n",
        "variogram_results = []\n",
        "for date in clean_esa_cci_data['date'].unique():\n",
        "    date_data = clean_esa_cci_data[clean_esa_cci_data['date'] == date]\n",
        "    if not date_data.empty:\n",
        "        lags, semivariance = experimental_variogram(date_data)\n",
        "        best_model, best_params = fit_best_variogram(lags, semivariance)\n",
        "        variogram_results.append({\n",
        "            'date': date,\n",
        "            'model': best_model,\n",
        "            'nugget': best_params[0],\n",
        "            'sill': best_params[1],\n",
        "            'range': best_params[2]\n",
        "        })\n",
        "\n",
        "# Results\n",
        "variogram_results_df = pd.DataFrame(variogram_results)\n",
        "variogram_results_df"
      ],
      "metadata": {
        "colab": {
          "base_uri": "https://localhost:8080/",
          "height": 423
        },
        "id": "IN27qySZfFz3",
        "outputId": "590899a1-e5ef-4675-caee-45e214528613"
      },
      "execution_count": null,
      "outputs": [
        {
          "output_type": "execute_result",
          "data": {
            "text/plain": [
              "          date        model        nugget      sill     range\n",
              "0   2021-01-01        power  1.028093e-17  0.000620  0.782832\n",
              "1   2021-01-02        power  2.114581e-04  0.000343  1.030237\n",
              "2   2021-01-03        power  2.199909e-04  0.000264  0.127731\n",
              "3   2021-01-04        power  2.588858e-08  0.000438  0.164836\n",
              "4   2021-01-05        power  4.667977e-04  0.000353  1.355303\n",
              "..         ...          ...           ...       ...       ...\n",
              "725 2022-12-27  exponential  2.471213e-10  0.000428  0.289627\n",
              "726 2022-12-28        power  2.010137e-04  0.000256  0.274523\n",
              "727 2022-12-29        power  1.262676e-04  0.000152  0.156248\n",
              "728 2022-12-30        power  1.608651e-04  0.000200  0.474720\n",
              "729 2022-12-31        power  3.085592e-04  0.000049  1.575023\n",
              "\n",
              "[730 rows x 5 columns]"
            ],
            "text/html": [
              "\n",
              "  <div id=\"df-e72cd6ba-7911-4ad2-9557-f95de38ef85c\" class=\"colab-df-container\">\n",
              "    <div>\n",
              "<style scoped>\n",
              "    .dataframe tbody tr th:only-of-type {\n",
              "        vertical-align: middle;\n",
              "    }\n",
              "\n",
              "    .dataframe tbody tr th {\n",
              "        vertical-align: top;\n",
              "    }\n",
              "\n",
              "    .dataframe thead th {\n",
              "        text-align: right;\n",
              "    }\n",
              "</style>\n",
              "<table border=\"1\" class=\"dataframe\">\n",
              "  <thead>\n",
              "    <tr style=\"text-align: right;\">\n",
              "      <th></th>\n",
              "      <th>date</th>\n",
              "      <th>model</th>\n",
              "      <th>nugget</th>\n",
              "      <th>sill</th>\n",
              "      <th>range</th>\n",
              "    </tr>\n",
              "  </thead>\n",
              "  <tbody>\n",
              "    <tr>\n",
              "      <th>0</th>\n",
              "      <td>2021-01-01</td>\n",
              "      <td>power</td>\n",
              "      <td>1.028093e-17</td>\n",
              "      <td>0.000620</td>\n",
              "      <td>0.782832</td>\n",
              "    </tr>\n",
              "    <tr>\n",
              "      <th>1</th>\n",
              "      <td>2021-01-02</td>\n",
              "      <td>power</td>\n",
              "      <td>2.114581e-04</td>\n",
              "      <td>0.000343</td>\n",
              "      <td>1.030237</td>\n",
              "    </tr>\n",
              "    <tr>\n",
              "      <th>2</th>\n",
              "      <td>2021-01-03</td>\n",
              "      <td>power</td>\n",
              "      <td>2.199909e-04</td>\n",
              "      <td>0.000264</td>\n",
              "      <td>0.127731</td>\n",
              "    </tr>\n",
              "    <tr>\n",
              "      <th>3</th>\n",
              "      <td>2021-01-04</td>\n",
              "      <td>power</td>\n",
              "      <td>2.588858e-08</td>\n",
              "      <td>0.000438</td>\n",
              "      <td>0.164836</td>\n",
              "    </tr>\n",
              "    <tr>\n",
              "      <th>4</th>\n",
              "      <td>2021-01-05</td>\n",
              "      <td>power</td>\n",
              "      <td>4.667977e-04</td>\n",
              "      <td>0.000353</td>\n",
              "      <td>1.355303</td>\n",
              "    </tr>\n",
              "    <tr>\n",
              "      <th>...</th>\n",
              "      <td>...</td>\n",
              "      <td>...</td>\n",
              "      <td>...</td>\n",
              "      <td>...</td>\n",
              "      <td>...</td>\n",
              "    </tr>\n",
              "    <tr>\n",
              "      <th>725</th>\n",
              "      <td>2022-12-27</td>\n",
              "      <td>exponential</td>\n",
              "      <td>2.471213e-10</td>\n",
              "      <td>0.000428</td>\n",
              "      <td>0.289627</td>\n",
              "    </tr>\n",
              "    <tr>\n",
              "      <th>726</th>\n",
              "      <td>2022-12-28</td>\n",
              "      <td>power</td>\n",
              "      <td>2.010137e-04</td>\n",
              "      <td>0.000256</td>\n",
              "      <td>0.274523</td>\n",
              "    </tr>\n",
              "    <tr>\n",
              "      <th>727</th>\n",
              "      <td>2022-12-29</td>\n",
              "      <td>power</td>\n",
              "      <td>1.262676e-04</td>\n",
              "      <td>0.000152</td>\n",
              "      <td>0.156248</td>\n",
              "    </tr>\n",
              "    <tr>\n",
              "      <th>728</th>\n",
              "      <td>2022-12-30</td>\n",
              "      <td>power</td>\n",
              "      <td>1.608651e-04</td>\n",
              "      <td>0.000200</td>\n",
              "      <td>0.474720</td>\n",
              "    </tr>\n",
              "    <tr>\n",
              "      <th>729</th>\n",
              "      <td>2022-12-31</td>\n",
              "      <td>power</td>\n",
              "      <td>3.085592e-04</td>\n",
              "      <td>0.000049</td>\n",
              "      <td>1.575023</td>\n",
              "    </tr>\n",
              "  </tbody>\n",
              "</table>\n",
              "<p>730 rows × 5 columns</p>\n",
              "</div>\n",
              "    <div class=\"colab-df-buttons\">\n",
              "\n",
              "  <div class=\"colab-df-container\">\n",
              "    <button class=\"colab-df-convert\" onclick=\"convertToInteractive('df-e72cd6ba-7911-4ad2-9557-f95de38ef85c')\"\n",
              "            title=\"Convert this dataframe to an interactive table.\"\n",
              "            style=\"display:none;\">\n",
              "\n",
              "  <svg xmlns=\"http://www.w3.org/2000/svg\" height=\"24px\" viewBox=\"0 -960 960 960\">\n",
              "    <path d=\"M120-120v-720h720v720H120Zm60-500h600v-160H180v160Zm220 220h160v-160H400v160Zm0 220h160v-160H400v160ZM180-400h160v-160H180v160Zm440 0h160v-160H620v160ZM180-180h160v-160H180v160Zm440 0h160v-160H620v160Z\"/>\n",
              "  </svg>\n",
              "    </button>\n",
              "\n",
              "  <style>\n",
              "    .colab-df-container {\n",
              "      display:flex;\n",
              "      gap: 12px;\n",
              "    }\n",
              "\n",
              "    .colab-df-convert {\n",
              "      background-color: #E8F0FE;\n",
              "      border: none;\n",
              "      border-radius: 50%;\n",
              "      cursor: pointer;\n",
              "      display: none;\n",
              "      fill: #1967D2;\n",
              "      height: 32px;\n",
              "      padding: 0 0 0 0;\n",
              "      width: 32px;\n",
              "    }\n",
              "\n",
              "    .colab-df-convert:hover {\n",
              "      background-color: #E2EBFA;\n",
              "      box-shadow: 0px 1px 2px rgba(60, 64, 67, 0.3), 0px 1px 3px 1px rgba(60, 64, 67, 0.15);\n",
              "      fill: #174EA6;\n",
              "    }\n",
              "\n",
              "    .colab-df-buttons div {\n",
              "      margin-bottom: 4px;\n",
              "    }\n",
              "\n",
              "    [theme=dark] .colab-df-convert {\n",
              "      background-color: #3B4455;\n",
              "      fill: #D2E3FC;\n",
              "    }\n",
              "\n",
              "    [theme=dark] .colab-df-convert:hover {\n",
              "      background-color: #434B5C;\n",
              "      box-shadow: 0px 1px 3px 1px rgba(0, 0, 0, 0.15);\n",
              "      filter: drop-shadow(0px 1px 2px rgba(0, 0, 0, 0.3));\n",
              "      fill: #FFFFFF;\n",
              "    }\n",
              "  </style>\n",
              "\n",
              "    <script>\n",
              "      const buttonEl =\n",
              "        document.querySelector('#df-e72cd6ba-7911-4ad2-9557-f95de38ef85c button.colab-df-convert');\n",
              "      buttonEl.style.display =\n",
              "        google.colab.kernel.accessAllowed ? 'block' : 'none';\n",
              "\n",
              "      async function convertToInteractive(key) {\n",
              "        const element = document.querySelector('#df-e72cd6ba-7911-4ad2-9557-f95de38ef85c');\n",
              "        const dataTable =\n",
              "          await google.colab.kernel.invokeFunction('convertToInteractive',\n",
              "                                                    [key], {});\n",
              "        if (!dataTable) return;\n",
              "\n",
              "        const docLinkHtml = 'Like what you see? Visit the ' +\n",
              "          '<a target=\"_blank\" href=https://colab.research.google.com/notebooks/data_table.ipynb>data table notebook</a>'\n",
              "          + ' to learn more about interactive tables.';\n",
              "        element.innerHTML = '';\n",
              "        dataTable['output_type'] = 'display_data';\n",
              "        await google.colab.output.renderOutput(dataTable, element);\n",
              "        const docLink = document.createElement('div');\n",
              "        docLink.innerHTML = docLinkHtml;\n",
              "        element.appendChild(docLink);\n",
              "      }\n",
              "    </script>\n",
              "  </div>\n",
              "\n",
              "\n",
              "<div id=\"df-b414ac7b-ff88-4625-a6ee-1c0f262db339\">\n",
              "  <button class=\"colab-df-quickchart\" onclick=\"quickchart('df-b414ac7b-ff88-4625-a6ee-1c0f262db339')\"\n",
              "            title=\"Suggest charts\"\n",
              "            style=\"display:none;\">\n",
              "\n",
              "<svg xmlns=\"http://www.w3.org/2000/svg\" height=\"24px\"viewBox=\"0 0 24 24\"\n",
              "     width=\"24px\">\n",
              "    <g>\n",
              "        <path d=\"M19 3H5c-1.1 0-2 .9-2 2v14c0 1.1.9 2 2 2h14c1.1 0 2-.9 2-2V5c0-1.1-.9-2-2-2zM9 17H7v-7h2v7zm4 0h-2V7h2v10zm4 0h-2v-4h2v4z\"/>\n",
              "    </g>\n",
              "</svg>\n",
              "  </button>\n",
              "\n",
              "<style>\n",
              "  .colab-df-quickchart {\n",
              "      --bg-color: #E8F0FE;\n",
              "      --fill-color: #1967D2;\n",
              "      --hover-bg-color: #E2EBFA;\n",
              "      --hover-fill-color: #174EA6;\n",
              "      --disabled-fill-color: #AAA;\n",
              "      --disabled-bg-color: #DDD;\n",
              "  }\n",
              "\n",
              "  [theme=dark] .colab-df-quickchart {\n",
              "      --bg-color: #3B4455;\n",
              "      --fill-color: #D2E3FC;\n",
              "      --hover-bg-color: #434B5C;\n",
              "      --hover-fill-color: #FFFFFF;\n",
              "      --disabled-bg-color: #3B4455;\n",
              "      --disabled-fill-color: #666;\n",
              "  }\n",
              "\n",
              "  .colab-df-quickchart {\n",
              "    background-color: var(--bg-color);\n",
              "    border: none;\n",
              "    border-radius: 50%;\n",
              "    cursor: pointer;\n",
              "    display: none;\n",
              "    fill: var(--fill-color);\n",
              "    height: 32px;\n",
              "    padding: 0;\n",
              "    width: 32px;\n",
              "  }\n",
              "\n",
              "  .colab-df-quickchart:hover {\n",
              "    background-color: var(--hover-bg-color);\n",
              "    box-shadow: 0 1px 2px rgba(60, 64, 67, 0.3), 0 1px 3px 1px rgba(60, 64, 67, 0.15);\n",
              "    fill: var(--button-hover-fill-color);\n",
              "  }\n",
              "\n",
              "  .colab-df-quickchart-complete:disabled,\n",
              "  .colab-df-quickchart-complete:disabled:hover {\n",
              "    background-color: var(--disabled-bg-color);\n",
              "    fill: var(--disabled-fill-color);\n",
              "    box-shadow: none;\n",
              "  }\n",
              "\n",
              "  .colab-df-spinner {\n",
              "    border: 2px solid var(--fill-color);\n",
              "    border-color: transparent;\n",
              "    border-bottom-color: var(--fill-color);\n",
              "    animation:\n",
              "      spin 1s steps(1) infinite;\n",
              "  }\n",
              "\n",
              "  @keyframes spin {\n",
              "    0% {\n",
              "      border-color: transparent;\n",
              "      border-bottom-color: var(--fill-color);\n",
              "      border-left-color: var(--fill-color);\n",
              "    }\n",
              "    20% {\n",
              "      border-color: transparent;\n",
              "      border-left-color: var(--fill-color);\n",
              "      border-top-color: var(--fill-color);\n",
              "    }\n",
              "    30% {\n",
              "      border-color: transparent;\n",
              "      border-left-color: var(--fill-color);\n",
              "      border-top-color: var(--fill-color);\n",
              "      border-right-color: var(--fill-color);\n",
              "    }\n",
              "    40% {\n",
              "      border-color: transparent;\n",
              "      border-right-color: var(--fill-color);\n",
              "      border-top-color: var(--fill-color);\n",
              "    }\n",
              "    60% {\n",
              "      border-color: transparent;\n",
              "      border-right-color: var(--fill-color);\n",
              "    }\n",
              "    80% {\n",
              "      border-color: transparent;\n",
              "      border-right-color: var(--fill-color);\n",
              "      border-bottom-color: var(--fill-color);\n",
              "    }\n",
              "    90% {\n",
              "      border-color: transparent;\n",
              "      border-bottom-color: var(--fill-color);\n",
              "    }\n",
              "  }\n",
              "</style>\n",
              "\n",
              "  <script>\n",
              "    async function quickchart(key) {\n",
              "      const quickchartButtonEl =\n",
              "        document.querySelector('#' + key + ' button');\n",
              "      quickchartButtonEl.disabled = true;  // To prevent multiple clicks.\n",
              "      quickchartButtonEl.classList.add('colab-df-spinner');\n",
              "      try {\n",
              "        const charts = await google.colab.kernel.invokeFunction(\n",
              "            'suggestCharts', [key], {});\n",
              "      } catch (error) {\n",
              "        console.error('Error during call to suggestCharts:', error);\n",
              "      }\n",
              "      quickchartButtonEl.classList.remove('colab-df-spinner');\n",
              "      quickchartButtonEl.classList.add('colab-df-quickchart-complete');\n",
              "    }\n",
              "    (() => {\n",
              "      let quickchartButtonEl =\n",
              "        document.querySelector('#df-b414ac7b-ff88-4625-a6ee-1c0f262db339 button');\n",
              "      quickchartButtonEl.style.display =\n",
              "        google.colab.kernel.accessAllowed ? 'block' : 'none';\n",
              "    })();\n",
              "  </script>\n",
              "</div>\n",
              "\n",
              "  <div id=\"id_06a536d0-2f91-4fe3-af1f-5142c2e7a049\">\n",
              "    <style>\n",
              "      .colab-df-generate {\n",
              "        background-color: #E8F0FE;\n",
              "        border: none;\n",
              "        border-radius: 50%;\n",
              "        cursor: pointer;\n",
              "        display: none;\n",
              "        fill: #1967D2;\n",
              "        height: 32px;\n",
              "        padding: 0 0 0 0;\n",
              "        width: 32px;\n",
              "      }\n",
              "\n",
              "      .colab-df-generate:hover {\n",
              "        background-color: #E2EBFA;\n",
              "        box-shadow: 0px 1px 2px rgba(60, 64, 67, 0.3), 0px 1px 3px 1px rgba(60, 64, 67, 0.15);\n",
              "        fill: #174EA6;\n",
              "      }\n",
              "\n",
              "      [theme=dark] .colab-df-generate {\n",
              "        background-color: #3B4455;\n",
              "        fill: #D2E3FC;\n",
              "      }\n",
              "\n",
              "      [theme=dark] .colab-df-generate:hover {\n",
              "        background-color: #434B5C;\n",
              "        box-shadow: 0px 1px 3px 1px rgba(0, 0, 0, 0.15);\n",
              "        filter: drop-shadow(0px 1px 2px rgba(0, 0, 0, 0.3));\n",
              "        fill: #FFFFFF;\n",
              "      }\n",
              "    </style>\n",
              "    <button class=\"colab-df-generate\" onclick=\"generateWithVariable('variogram_results_df')\"\n",
              "            title=\"Generate code using this dataframe.\"\n",
              "            style=\"display:none;\">\n",
              "\n",
              "  <svg xmlns=\"http://www.w3.org/2000/svg\" height=\"24px\"viewBox=\"0 0 24 24\"\n",
              "       width=\"24px\">\n",
              "    <path d=\"M7,19H8.4L18.45,9,17,7.55,7,17.6ZM5,21V16.75L18.45,3.32a2,2,0,0,1,2.83,0l1.4,1.43a1.91,1.91,0,0,1,.58,1.4,1.91,1.91,0,0,1-.58,1.4L9.25,21ZM18.45,9,17,7.55Zm-12,3A5.31,5.31,0,0,0,4.9,8.1,5.31,5.31,0,0,0,1,6.5,5.31,5.31,0,0,0,4.9,4.9,5.31,5.31,0,0,0,6.5,1,5.31,5.31,0,0,0,8.1,4.9,5.31,5.31,0,0,0,12,6.5,5.46,5.46,0,0,0,6.5,12Z\"/>\n",
              "  </svg>\n",
              "    </button>\n",
              "    <script>\n",
              "      (() => {\n",
              "      const buttonEl =\n",
              "        document.querySelector('#id_06a536d0-2f91-4fe3-af1f-5142c2e7a049 button.colab-df-generate');\n",
              "      buttonEl.style.display =\n",
              "        google.colab.kernel.accessAllowed ? 'block' : 'none';\n",
              "\n",
              "      buttonEl.onclick = () => {\n",
              "        google.colab.notebook.generateWithVariable('variogram_results_df');\n",
              "      }\n",
              "      })();\n",
              "    </script>\n",
              "  </div>\n",
              "\n",
              "    </div>\n",
              "  </div>\n"
            ],
            "application/vnd.google.colaboratory.intrinsic+json": {
              "type": "dataframe",
              "variable_name": "variogram_results_df",
              "summary": "{\n  \"name\": \"variogram_results_df\",\n  \"rows\": 730,\n  \"fields\": [\n    {\n      \"column\": \"date\",\n      \"properties\": {\n        \"dtype\": \"date\",\n        \"min\": \"2021-01-01 00:00:00\",\n        \"max\": \"2022-12-31 00:00:00\",\n        \"num_unique_values\": 730,\n        \"samples\": [\n          \"2022-04-14 00:00:00\",\n          \"2021-05-29 00:00:00\",\n          \"2021-10-30 00:00:00\"\n        ],\n        \"semantic_type\": \"\",\n        \"description\": \"\"\n      }\n    },\n    {\n      \"column\": \"model\",\n      \"properties\": {\n        \"dtype\": \"category\",\n        \"num_unique_values\": 4,\n        \"samples\": [\n          \"exponential\",\n          \"spherical\",\n          \"power\"\n        ],\n        \"semantic_type\": \"\",\n        \"description\": \"\"\n      }\n    },\n    {\n      \"column\": \"nugget\",\n      \"properties\": {\n        \"dtype\": \"number\",\n        \"std\": 0.0024764128887673903,\n        \"min\": 1.2238443117046938e-26,\n        \"max\": 0.0662667544219945,\n        \"num_unique_values\": 730,\n        \"samples\": [\n          5.162529819696373e-16,\n          6.573419717704983e-17,\n          6.00600350974694e-08\n        ],\n        \"semantic_type\": \"\",\n        \"description\": \"\"\n      }\n    },\n    {\n      \"column\": \"sill\",\n      \"properties\": {\n        \"dtype\": \"number\",\n        \"std\": 0.0011225208653120938,\n        \"min\": 1.5047165659841945e-05,\n        \"max\": 0.015188477527735387,\n        \"num_unique_values\": 730,\n        \"samples\": [\n          0.0007942073404222815,\n          0.0028683435559577705,\n          0.0003782743282661374\n        ],\n        \"semantic_type\": \"\",\n        \"description\": \"\"\n      }\n    },\n    {\n      \"column\": \"range\",\n      \"properties\": {\n        \"dtype\": \"number\",\n        \"std\": 0.6617137895182138,\n        \"min\": 0.0053201412986976365,\n        \"max\": 3.791860114112683,\n        \"num_unique_values\": 730,\n        \"samples\": [\n          0.8250158290733035,\n          1.058651120073657,\n          0.4130958184746591\n        ],\n        \"semantic_type\": \"\",\n        \"description\": \"\"\n      }\n    }\n  ]\n}"
            }
          },
          "metadata": {},
          "execution_count": 81
        }
      ]
    },
    {
      "cell_type": "code",
      "source": [
        "variogram_results_df['date'] = pd.to_datetime(variogram_results_df['date'])\n",
        "clean_esa_cci_data['date'] = pd.to_datetime(clean_esa_cci_data['date'])\n",
        "\n",
        "# Interpolating ESA CCI onto Uniform Grid\n",
        "esa_cci_interpolated = []\n",
        "for date in clean_esa_cci_data['date'].unique():\n",
        "    date_data = clean_esa_cci_data[clean_esa_cci_data['date'] == date]\n",
        "\n",
        "    # Best model and parameters for the current date\n",
        "    best_variogram = variogram_results_df[variogram_results_df['date'] == date]\n",
        "    if not best_variogram.empty:\n",
        "        model = best_variogram.iloc[0]['model']\n",
        "    else:\n",
        "        model = 'exponential'  # Fallback model if no specific model is found\n",
        "\n",
        "    # Ordinary Kriging with the selected variogram model\n",
        "    OK = OrdinaryKriging(\n",
        "        date_data['longitude'].values,\n",
        "        date_data['latitude'].values,\n",
        "        date_data['soil_moisture'].values,\n",
        "        variogram_model=model,\n",
        "        verbose=False,\n",
        "        enable_plotting=False\n",
        "    )\n",
        "    z, _ = OK.execute(\"grid\", uniform_longitudes, uniform_latitudes)\n",
        "    grid_lat, grid_lon = np.meshgrid(uniform_latitudes, uniform_longitudes)\n",
        "\n",
        "    # Interpolated results\n",
        "    interpolated_results = pd.DataFrame({\n",
        "        'date': date,\n",
        "        'latitude': grid_lat.flatten(),\n",
        "        'longitude': grid_lon.flatten(),\n",
        "        'soil_moisture': z.flatten()\n",
        "    })\n",
        "    esa_cci_interpolated.append(interpolated_results)\n",
        "\n",
        "# Combining all interpolated results\n",
        "esa_cci_interpolated_df = pd.concat(esa_cci_interpolated, ignore_index=True)\n",
        "esa_cci_interpolated_df.sort_values(by=['date', 'latitude', 'longitude'], inplace=True)\n",
        "\n",
        "# Replacing any value < 0 or >1 with NaN\n",
        "esa_cci_interpolated_df['soil_moisture'] = esa_cci_interpolated_df['soil_moisture'].apply(lambda x: np.nan if x < 0 or x > 1 else x)\n",
        "\n",
        "# CSV\n",
        "esa_cci_interpolated_df.to_csv('esa_cci_interpolated.csv', index=False)"
      ],
      "metadata": {
        "id": "eBJ3V9HPfYFY"
      },
      "execution_count": null,
      "outputs": []
    },
    {
      "cell_type": "code",
      "source": [
        "esa_cci_interpolated = pd.read_csv('/content/esa_cci_interpolated.csv')"
      ],
      "metadata": {
        "id": "swHG2B1bgqzP"
      },
      "execution_count": null,
      "outputs": []
    },
    {
      "cell_type": "code",
      "source": [
        "esa_cci_interpolated['soil_moisture'].describe()"
      ],
      "metadata": {
        "colab": {
          "base_uri": "https://localhost:8080/",
          "height": 335
        },
        "id": "suDacmcRgv8a",
        "outputId": "f51928dc-3f84-4b48-89b6-fb70082c0026"
      },
      "execution_count": null,
      "outputs": [
        {
          "output_type": "execute_result",
          "data": {
            "text/plain": [
              "count    794934.000000\n",
              "mean          0.225881\n",
              "std           0.074549\n",
              "min           0.002275\n",
              "25%           0.157493\n",
              "50%           0.231043\n",
              "75%           0.293033\n",
              "max           0.420107\n",
              "Name: soil_moisture, dtype: float64"
            ],
            "text/html": [
              "<div>\n",
              "<style scoped>\n",
              "    .dataframe tbody tr th:only-of-type {\n",
              "        vertical-align: middle;\n",
              "    }\n",
              "\n",
              "    .dataframe tbody tr th {\n",
              "        vertical-align: top;\n",
              "    }\n",
              "\n",
              "    .dataframe thead th {\n",
              "        text-align: right;\n",
              "    }\n",
              "</style>\n",
              "<table border=\"1\" class=\"dataframe\">\n",
              "  <thead>\n",
              "    <tr style=\"text-align: right;\">\n",
              "      <th></th>\n",
              "      <th>soil_moisture</th>\n",
              "    </tr>\n",
              "  </thead>\n",
              "  <tbody>\n",
              "    <tr>\n",
              "      <th>count</th>\n",
              "      <td>794934.000000</td>\n",
              "    </tr>\n",
              "    <tr>\n",
              "      <th>mean</th>\n",
              "      <td>0.225881</td>\n",
              "    </tr>\n",
              "    <tr>\n",
              "      <th>std</th>\n",
              "      <td>0.074549</td>\n",
              "    </tr>\n",
              "    <tr>\n",
              "      <th>min</th>\n",
              "      <td>0.002275</td>\n",
              "    </tr>\n",
              "    <tr>\n",
              "      <th>25%</th>\n",
              "      <td>0.157493</td>\n",
              "    </tr>\n",
              "    <tr>\n",
              "      <th>50%</th>\n",
              "      <td>0.231043</td>\n",
              "    </tr>\n",
              "    <tr>\n",
              "      <th>75%</th>\n",
              "      <td>0.293033</td>\n",
              "    </tr>\n",
              "    <tr>\n",
              "      <th>max</th>\n",
              "      <td>0.420107</td>\n",
              "    </tr>\n",
              "  </tbody>\n",
              "</table>\n",
              "</div><br><label><b>dtype:</b> float64</label>"
            ]
          },
          "metadata": {},
          "execution_count": 12
        }
      ]
    },
    {
      "cell_type": "code",
      "source": [
        "# Number of grid points per date\n",
        "esa_cci_interpolated['date'].value_counts()"
      ],
      "metadata": {
        "colab": {
          "base_uri": "https://localhost:8080/",
          "height": 489
        },
        "id": "MxDRwpyRhbIa",
        "outputId": "8fce01ef-639e-44b8-cd28-449e2cd8aa5b"
      },
      "execution_count": null,
      "outputs": [
        {
          "output_type": "execute_result",
          "data": {
            "text/plain": [
              "date\n",
              "2021-01-01    1089\n",
              "2022-04-25    1089\n",
              "2022-04-27    1089\n",
              "2022-04-28    1089\n",
              "2022-04-29    1089\n",
              "              ... \n",
              "2021-09-03    1089\n",
              "2021-09-04    1089\n",
              "2021-09-05    1089\n",
              "2021-09-06    1089\n",
              "2022-12-31    1089\n",
              "Name: count, Length: 730, dtype: int64"
            ],
            "text/html": [
              "<div>\n",
              "<style scoped>\n",
              "    .dataframe tbody tr th:only-of-type {\n",
              "        vertical-align: middle;\n",
              "    }\n",
              "\n",
              "    .dataframe tbody tr th {\n",
              "        vertical-align: top;\n",
              "    }\n",
              "\n",
              "    .dataframe thead th {\n",
              "        text-align: right;\n",
              "    }\n",
              "</style>\n",
              "<table border=\"1\" class=\"dataframe\">\n",
              "  <thead>\n",
              "    <tr style=\"text-align: right;\">\n",
              "      <th></th>\n",
              "      <th>count</th>\n",
              "    </tr>\n",
              "    <tr>\n",
              "      <th>date</th>\n",
              "      <th></th>\n",
              "    </tr>\n",
              "  </thead>\n",
              "  <tbody>\n",
              "    <tr>\n",
              "      <th>2021-01-01</th>\n",
              "      <td>1089</td>\n",
              "    </tr>\n",
              "    <tr>\n",
              "      <th>2022-04-25</th>\n",
              "      <td>1089</td>\n",
              "    </tr>\n",
              "    <tr>\n",
              "      <th>2022-04-27</th>\n",
              "      <td>1089</td>\n",
              "    </tr>\n",
              "    <tr>\n",
              "      <th>2022-04-28</th>\n",
              "      <td>1089</td>\n",
              "    </tr>\n",
              "    <tr>\n",
              "      <th>2022-04-29</th>\n",
              "      <td>1089</td>\n",
              "    </tr>\n",
              "    <tr>\n",
              "      <th>...</th>\n",
              "      <td>...</td>\n",
              "    </tr>\n",
              "    <tr>\n",
              "      <th>2021-09-03</th>\n",
              "      <td>1089</td>\n",
              "    </tr>\n",
              "    <tr>\n",
              "      <th>2021-09-04</th>\n",
              "      <td>1089</td>\n",
              "    </tr>\n",
              "    <tr>\n",
              "      <th>2021-09-05</th>\n",
              "      <td>1089</td>\n",
              "    </tr>\n",
              "    <tr>\n",
              "      <th>2021-09-06</th>\n",
              "      <td>1089</td>\n",
              "    </tr>\n",
              "    <tr>\n",
              "      <th>2022-12-31</th>\n",
              "      <td>1089</td>\n",
              "    </tr>\n",
              "  </tbody>\n",
              "</table>\n",
              "<p>730 rows × 1 columns</p>\n",
              "</div><br><label><b>dtype:</b> int64</label>"
            ]
          },
          "metadata": {},
          "execution_count": 85
        }
      ]
    },
    {
      "cell_type": "code",
      "source": [
        "# Number of nan values\n",
        "esa_cci_interpolated['soil_moisture'].isna().sum()"
      ],
      "metadata": {
        "colab": {
          "base_uri": "https://localhost:8080/"
        },
        "id": "ZC5Zn5mCg3pA",
        "outputId": "56437d66-0feb-4e8b-9e98-fa24e698e0b6"
      },
      "execution_count": null,
      "outputs": [
        {
          "output_type": "execute_result",
          "data": {
            "text/plain": [
              "0"
            ]
          },
          "metadata": {},
          "execution_count": 86
        }
      ]
    },
    {
      "cell_type": "markdown",
      "source": [
        "## Projecting SMAP data on the fine uniform gird"
      ],
      "metadata": {
        "id": "z0YqOPMTh3F7"
      }
    },
    {
      "cell_type": "code",
      "source": [
        "processed_clean_smap_data = pd.read_csv('/content/processed_clean_smap_data_with_tolerance.csv')"
      ],
      "metadata": {
        "id": "lV2j25oRlYBC"
      },
      "execution_count": null,
      "outputs": []
    },
    {
      "cell_type": "markdown",
      "source": [
        "IDW has been applied in this case because the dataset is already on the desired resolution and just required a little bit of alignment.  "
      ],
      "metadata": {
        "id": "74cGxIN6ihfh"
      }
    },
    {
      "cell_type": "code",
      "source": [
        "# Inverse Distance Weighting (IDW) for interpolation\n",
        "def idw_interpolation(points, values, grid_points, power=2):\n",
        "    grid_values = []\n",
        "    for gp in grid_points:\n",
        "        distances = np.sqrt(((points - gp) ** 2).sum(axis=1))\n",
        "        weights = 1 / (distances ** power + 1e-12)  # To avoid division by zero\n",
        "        grid_values.append(np.sum(weights * values) / np.sum(weights))\n",
        "    return np.array(grid_values)\n",
        "\n",
        "result_data = []\n",
        "\n",
        "for date in processed_clean_smap_data['date'].unique():\n",
        "    date_data = processed_clean_smap_data[processed_clean_smap_data['date'] == date]\n",
        "    points = date_data[['latitude', 'longitude']].values\n",
        "    values = date_data['soil_moisture'].values\n",
        "    grid_values = idw_interpolation(points, values, uniform_grid)\n",
        "\n",
        "    # DataFrame for this date's results\n",
        "    date_results = pd.DataFrame({\n",
        "        'date': date,\n",
        "        'latitude': uniform_grid[:, 0],\n",
        "        'longitude': uniform_grid[:, 1],\n",
        "        'soil_moisture': grid_values\n",
        "    })\n",
        "    result_data.append(date_results)\n",
        "\n",
        "# Combining results for all dates into a single DataFrame and sorting\n",
        "final_results = pd.concat(result_data, ignore_index=True)\n",
        "final_results.sort_values(by=['date', 'latitude', 'longitude'], inplace=True)\n",
        "\n",
        "# Replacing any soil moisture values < 0 or >1 by NaN\n",
        "final_results['soil_moisture'] = final_results['soil_moisture'].apply(lambda x: np.nan if x < 0 or x > 1 else x)\n",
        "\n",
        "# Results\n",
        "final_results.to_csv(\"smap_standardized.csv\", index=False)"
      ],
      "metadata": {
        "id": "MF4L3RyTiAux"
      },
      "execution_count": null,
      "outputs": []
    },
    {
      "cell_type": "code",
      "source": [
        "smap_standardized = pd.read_csv('/content/smap_standardized.csv')"
      ],
      "metadata": {
        "id": "84shVbwhlt96"
      },
      "execution_count": null,
      "outputs": []
    },
    {
      "cell_type": "code",
      "source": [
        "smap_standardized['soil_moisture'].describe()"
      ],
      "metadata": {
        "colab": {
          "base_uri": "https://localhost:8080/",
          "height": 335
        },
        "id": "yiqdgsT5oBZM",
        "outputId": "0589ce66-7480-48a1-ac8b-cada565feab3"
      },
      "execution_count": null,
      "outputs": [
        {
          "output_type": "execute_result",
          "data": {
            "text/plain": [
              "count    198198.000000\n",
              "mean          0.291467\n",
              "std           0.102265\n",
              "min           0.069471\n",
              "25%           0.217768\n",
              "50%           0.273616\n",
              "75%           0.349449\n",
              "max           0.639964\n",
              "Name: soil_moisture, dtype: float64"
            ],
            "text/html": [
              "<div>\n",
              "<style scoped>\n",
              "    .dataframe tbody tr th:only-of-type {\n",
              "        vertical-align: middle;\n",
              "    }\n",
              "\n",
              "    .dataframe tbody tr th {\n",
              "        vertical-align: top;\n",
              "    }\n",
              "\n",
              "    .dataframe thead th {\n",
              "        text-align: right;\n",
              "    }\n",
              "</style>\n",
              "<table border=\"1\" class=\"dataframe\">\n",
              "  <thead>\n",
              "    <tr style=\"text-align: right;\">\n",
              "      <th></th>\n",
              "      <th>soil_moisture</th>\n",
              "    </tr>\n",
              "  </thead>\n",
              "  <tbody>\n",
              "    <tr>\n",
              "      <th>count</th>\n",
              "      <td>198198.000000</td>\n",
              "    </tr>\n",
              "    <tr>\n",
              "      <th>mean</th>\n",
              "      <td>0.291467</td>\n",
              "    </tr>\n",
              "    <tr>\n",
              "      <th>std</th>\n",
              "      <td>0.102265</td>\n",
              "    </tr>\n",
              "    <tr>\n",
              "      <th>min</th>\n",
              "      <td>0.069471</td>\n",
              "    </tr>\n",
              "    <tr>\n",
              "      <th>25%</th>\n",
              "      <td>0.217768</td>\n",
              "    </tr>\n",
              "    <tr>\n",
              "      <th>50%</th>\n",
              "      <td>0.273616</td>\n",
              "    </tr>\n",
              "    <tr>\n",
              "      <th>75%</th>\n",
              "      <td>0.349449</td>\n",
              "    </tr>\n",
              "    <tr>\n",
              "      <th>max</th>\n",
              "      <td>0.639964</td>\n",
              "    </tr>\n",
              "  </tbody>\n",
              "</table>\n",
              "</div><br><label><b>dtype:</b> float64</label>"
            ]
          },
          "metadata": {},
          "execution_count": 8
        }
      ]
    },
    {
      "cell_type": "code",
      "source": [
        "smap_standardized['date'].value_counts()"
      ],
      "metadata": {
        "colab": {
          "base_uri": "https://localhost:8080/",
          "height": 489
        },
        "id": "iPFG6NR8oKdb",
        "outputId": "cb015972-95b3-4b12-f868-69ed3774c13c"
      },
      "execution_count": null,
      "outputs": [
        {
          "output_type": "execute_result",
          "data": {
            "text/plain": [
              "date\n",
              "2021-01-04    1089\n",
              "2022-03-07    1089\n",
              "2022-03-15    1089\n",
              "2022-03-28    1089\n",
              "2022-03-31    1089\n",
              "              ... \n",
              "2021-08-08    1089\n",
              "2021-08-11    1089\n",
              "2021-08-16    1089\n",
              "2021-08-19    1089\n",
              "2022-12-28    1089\n",
              "Name: count, Length: 182, dtype: int64"
            ],
            "text/html": [
              "<div>\n",
              "<style scoped>\n",
              "    .dataframe tbody tr th:only-of-type {\n",
              "        vertical-align: middle;\n",
              "    }\n",
              "\n",
              "    .dataframe tbody tr th {\n",
              "        vertical-align: top;\n",
              "    }\n",
              "\n",
              "    .dataframe thead th {\n",
              "        text-align: right;\n",
              "    }\n",
              "</style>\n",
              "<table border=\"1\" class=\"dataframe\">\n",
              "  <thead>\n",
              "    <tr style=\"text-align: right;\">\n",
              "      <th></th>\n",
              "      <th>count</th>\n",
              "    </tr>\n",
              "    <tr>\n",
              "      <th>date</th>\n",
              "      <th></th>\n",
              "    </tr>\n",
              "  </thead>\n",
              "  <tbody>\n",
              "    <tr>\n",
              "      <th>2021-01-04</th>\n",
              "      <td>1089</td>\n",
              "    </tr>\n",
              "    <tr>\n",
              "      <th>2022-03-07</th>\n",
              "      <td>1089</td>\n",
              "    </tr>\n",
              "    <tr>\n",
              "      <th>2022-03-15</th>\n",
              "      <td>1089</td>\n",
              "    </tr>\n",
              "    <tr>\n",
              "      <th>2022-03-28</th>\n",
              "      <td>1089</td>\n",
              "    </tr>\n",
              "    <tr>\n",
              "      <th>2022-03-31</th>\n",
              "      <td>1089</td>\n",
              "    </tr>\n",
              "    <tr>\n",
              "      <th>...</th>\n",
              "      <td>...</td>\n",
              "    </tr>\n",
              "    <tr>\n",
              "      <th>2021-08-08</th>\n",
              "      <td>1089</td>\n",
              "    </tr>\n",
              "    <tr>\n",
              "      <th>2021-08-11</th>\n",
              "      <td>1089</td>\n",
              "    </tr>\n",
              "    <tr>\n",
              "      <th>2021-08-16</th>\n",
              "      <td>1089</td>\n",
              "    </tr>\n",
              "    <tr>\n",
              "      <th>2021-08-19</th>\n",
              "      <td>1089</td>\n",
              "    </tr>\n",
              "    <tr>\n",
              "      <th>2022-12-28</th>\n",
              "      <td>1089</td>\n",
              "    </tr>\n",
              "  </tbody>\n",
              "</table>\n",
              "<p>182 rows × 1 columns</p>\n",
              "</div><br><label><b>dtype:</b> int64</label>"
            ]
          },
          "metadata": {},
          "execution_count": 11
        }
      ]
    },
    {
      "cell_type": "code",
      "source": [
        "smap_standardized['soil_moisture'].isna().sum()"
      ],
      "metadata": {
        "colab": {
          "base_uri": "https://localhost:8080/"
        },
        "id": "EeSA2DlXoHHP",
        "outputId": "686d00af-43ca-4195-d01e-3b07c18f3de3"
      },
      "execution_count": null,
      "outputs": [
        {
          "output_type": "execute_result",
          "data": {
            "text/plain": [
              "0"
            ]
          },
          "metadata": {},
          "execution_count": 12
        }
      ]
    },
    {
      "cell_type": "markdown",
      "source": [
        "## Temporal interpolation of standardized SMAP data"
      ],
      "metadata": {
        "id": "hUAHtEegoaa_"
      }
    },
    {
      "cell_type": "code",
      "source": [
        "from statsmodels.tsa.seasonal import seasonal_decompose\n",
        "from itertools import product\n",
        "import warnings\n",
        "import matplotlib.pyplot as plt\n",
        "from statsmodels.graphics.tsaplots import plot_acf, plot_pacf\n",
        "from statsmodels.tsa.stattools import adfuller"
      ],
      "metadata": {
        "id": "esihj51z4D6Z"
      },
      "execution_count": null,
      "outputs": []
    },
    {
      "cell_type": "code",
      "source": [
        "warnings.filterwarnings(\"ignore\")  # Suppress warnings for clean output"
      ],
      "metadata": {
        "id": "fy181PIV4J1I"
      },
      "execution_count": null,
      "outputs": []
    },
    {
      "cell_type": "code",
      "source": [
        "smap_standardized['date'] = pd.to_datetime(smap_standardized['date'], format='%Y-%m-%d')"
      ],
      "metadata": {
        "id": "LPd_kADb4MW5"
      },
      "execution_count": null,
      "outputs": []
    },
    {
      "cell_type": "code",
      "source": [
        "# Date range\n",
        "start_date = pd.to_datetime('2021-01-04')\n",
        "end_date = pd.to_datetime('2022-12-28')\n",
        "full_timeline = pd.date_range(start=start_date, end=end_date, freq='D')"
      ],
      "metadata": {
        "id": "dE26GHSa4Ulj"
      },
      "execution_count": null,
      "outputs": []
    },
    {
      "cell_type": "code",
      "source": [
        "# Function to test stationarity\n",
        "def check_stationarity(time_series):\n",
        "    result = adfuller(time_series.dropna())\n",
        "    return {\n",
        "        \"ADF Statistic\": result[0],\n",
        "        \"p-value\": result[1],\n",
        "        \"Critical Values\": result[4],\n",
        "        \"Stationary\": result[1] < 0.05\n",
        "    }"
      ],
      "metadata": {
        "id": "H0Q7VpPZ4f53"
      },
      "execution_count": null,
      "outputs": []
    },
    {
      "source": [
        "# Analyzing a sample grid point for stationarity and seasonality\n",
        "example_lat, example_lon = smap_standardized[['latitude', 'longitude']].iloc[0]\n",
        "example_data = smap_standardized[\n",
        "    (smap_standardized['latitude'] == example_lat) & (smap_standardized['longitude'] == example_lon)\n",
        "]\n",
        "example_data = example_data.set_index('date')['soil_moisture'].sort_index()\n",
        "\n",
        "# Stationarity Test\n",
        "stationarity_result = check_stationarity(example_data)\n",
        "print(\"Stationarity Test Result for Sample Grid Point:\", stationarity_result)\n",
        "\n",
        "# ACF and PACF for the sample grid point\n",
        "plt.figure(figsize=(12, 6))\n",
        "plot_acf(example_data, lags=len(example_data) - 1, title=\"ACF for Soil Moisture (Sample Grid Point)\")\n",
        "plt.show()\n",
        "\n",
        "plt.figure(figsize=(12, 6))\n",
        "plot_pacf(example_data, lags=60, title=\"PACF for Soil Moisture (Sample Grid Point)\")\n",
        "plt.show()"
      ],
      "cell_type": "code",
      "metadata": {
        "colab": {
          "base_uri": "https://localhost:8080/",
          "height": 961
        },
        "id": "q7okkeP95PaX",
        "outputId": "c7f44c86-fa00-4637-cdf0-b1b95cfdbac3"
      },
      "execution_count": null,
      "outputs": [
        {
          "output_type": "stream",
          "name": "stdout",
          "text": [
            "Stationarity Test Result for Sample Grid Point: {'ADF Statistic': -3.585851663396098, 'p-value': 0.006037346119089067, 'Critical Values': {'1%': -3.4672111510631, '5%': -2.877734766803841, '10%': -2.575403364197531}, 'Stationary': True}\n"
          ]
        },
        {
          "output_type": "display_data",
          "data": {
            "text/plain": [
              "<Figure size 1200x600 with 0 Axes>"
            ]
          },
          "metadata": {}
        },
        {
          "output_type": "display_data",
          "data": {
            "text/plain": [
              "<Figure size 640x480 with 1 Axes>"
            ],
            "image/png": "[encoded data removed]"
          },
          "metadata": {}
        },
        {
          "output_type": "display_data",
          "data": {
            "text/plain": [
              "<Figure size 1200x600 with 0 Axes>"
            ]
          },
          "metadata": {}
        },
        {
          "output_type": "display_data",
          "data": {
            "text/plain": [
              "<Figure size 640x480 with 1 Axes>"
            ],
            "image/png": "[encoded data removed]"
          },
          "metadata": {}
        }
      ]
    },
    {
      "cell_type": "markdown",
      "source": [
        "Seasonal decomposition was applied to temporally interpolate missing values in the SMAP standardized dataset. The time series for each grid point was decomposed into trend, seasonality, and residual components. Missing values were temporarily filled using linear interpolation to enable decomposition. The decomposed components were interpolated separately and combined to reconstruct the complete time series, ensuring consistency across all dates.\n",
        "\n",
        "Stationarity was tested using the Augmented Dickey-Fuller test, and seasonality was analyzed via autocorrelation. I initially tried SARIMA with parameter optimization for each grid point, but had to drop it because of the computational constraints arising from the large number of grid points (1089) and dates."
      ],
      "metadata": {
        "id": "pPlvADdYkBu8"
      }
    },
    {
      "cell_type": "code",
      "source": [
        "results = []\n",
        "\n",
        "# Iterating over all grid points\n",
        "for lat, lon in smap_standardized[['latitude', 'longitude']].drop_duplicates().values:\n",
        "    # Time series for the grid point\n",
        "    grid_data = smap_standardized[\n",
        "        (smap_standardized['latitude'] == lat) & (smap_standardized['longitude'] == lon)\n",
        "    ]\n",
        "    grid_data = grid_data.set_index('date')['soil_moisture'].sort_index()\n",
        "\n",
        "    # Reindexing to include all dates in the full range\n",
        "    grid_data = grid_data.reindex(full_timeline)  # Missing dates will have NaN\n",
        "\n",
        "    # Filling the missing values temporarily to allow decomposition\n",
        "    filled_data = grid_data.interpolate(method='linear')\n",
        "\n",
        "    try:\n",
        "        # Decomposition\n",
        "        decomposition = seasonal_decompose(filled_data, model='additive', period=362, extrapolate_trend='freq')\n",
        "\n",
        "        # Interpolating each component\n",
        "        trend = decomposition.trend.interpolate(method='linear')\n",
        "        seasonal = decomposition.seasonal\n",
        "        residual = decomposition.resid.interpolate(method='linear')\n",
        "\n",
        "        # Reconstruction\n",
        "        interpolated_values = trend + seasonal + residual\n",
        "\n",
        "        # Results\n",
        "        results.append(pd.DataFrame({\n",
        "            'date': full_timeline,\n",
        "            'latitude': lat,\n",
        "            'longitude': lon,\n",
        "            'soil_moisture': interpolated_values\n",
        "        }))\n",
        "    except Exception as e:\n",
        "        print(f\"Decomposition failed for grid point ({lat}, {lon}): {e}\")\n",
        "\n",
        "# Combining results for all grid points and sorting\n",
        "final_results = pd.concat(results, ignore_index=True)\n",
        "final_results.sort_values(by=['date', 'latitude', 'longitude'], inplace=True)\n",
        "\n",
        "# Replacing values <0 or >1 by NaN\n",
        "final_results['soil_moisture'] = final_results['soil_moisture'].apply(lambda x: np.nan if x < 0 or x > 1 else x)\n",
        "\n",
        "# Interpolated dataset\n",
        "final_results.to_csv('/content/smap_daily_interpolated.csv', index=False)\n",
        "\n",
        "print(\"Decomposition-based interpolation completed. Results saved to 'smap_daily_interpolated_decomposition.csv'\")"
      ],
      "metadata": {
        "colab": {
          "base_uri": "https://localhost:8080/"
        },
        "id": "F7BdS_OIQ1zi",
        "outputId": "2bf4bfb3-96a1-47fa-ab91-ed4506b49229"
      },
      "execution_count": null,
      "outputs": [
        {
          "output_type": "stream",
          "name": "stdout",
          "text": [
            "Decomposition-based interpolation completed. Results saved to 'smap_daily_interpolated_decomposition.csv'\n"
          ]
        }
      ]
    },
    {
      "cell_type": "code",
      "source": [
        "smap_daily_interpolated = pd.read_csv('/content/smap_daily_interpolated.csv')"
      ],
      "metadata": {
        "id": "GxOcXX29U9bd"
      },
      "execution_count": null,
      "outputs": []
    },
    {
      "cell_type": "code",
      "source": [
        "smap_daily_interpolated['soil_moisture'].describe()"
      ],
      "metadata": {
        "colab": {
          "base_uri": "https://localhost:8080/",
          "height": 335
        },
        "id": "OxRuar0RVBTQ",
        "outputId": "9b3850cf-84cb-4f78-e5e9-9159bd7e4618"
      },
      "execution_count": null,
      "outputs": [
        {
          "output_type": "execute_result",
          "data": {
            "text/plain": [
              "count    788436.000000\n",
              "mean          0.293932\n",
              "std           0.098320\n",
              "min           0.069471\n",
              "25%           0.222718\n",
              "50%           0.278700\n",
              "75%           0.351368\n",
              "max           0.639964\n",
              "Name: soil_moisture, dtype: float64"
            ],
            "text/html": [
              "<div>\n",
              "<style scoped>\n",
              "    .dataframe tbody tr th:only-of-type {\n",
              "        vertical-align: middle;\n",
              "    }\n",
              "\n",
              "    .dataframe tbody tr th {\n",
              "        vertical-align: top;\n",
              "    }\n",
              "\n",
              "    .dataframe thead th {\n",
              "        text-align: right;\n",
              "    }\n",
              "</style>\n",
              "<table border=\"1\" class=\"dataframe\">\n",
              "  <thead>\n",
              "    <tr style=\"text-align: right;\">\n",
              "      <th></th>\n",
              "      <th>soil_moisture</th>\n",
              "    </tr>\n",
              "  </thead>\n",
              "  <tbody>\n",
              "    <tr>\n",
              "      <th>count</th>\n",
              "      <td>788436.000000</td>\n",
              "    </tr>\n",
              "    <tr>\n",
              "      <th>mean</th>\n",
              "      <td>0.293932</td>\n",
              "    </tr>\n",
              "    <tr>\n",
              "      <th>std</th>\n",
              "      <td>0.098320</td>\n",
              "    </tr>\n",
              "    <tr>\n",
              "      <th>min</th>\n",
              "      <td>0.069471</td>\n",
              "    </tr>\n",
              "    <tr>\n",
              "      <th>25%</th>\n",
              "      <td>0.222718</td>\n",
              "    </tr>\n",
              "    <tr>\n",
              "      <th>50%</th>\n",
              "      <td>0.278700</td>\n",
              "    </tr>\n",
              "    <tr>\n",
              "      <th>75%</th>\n",
              "      <td>0.351368</td>\n",
              "    </tr>\n",
              "    <tr>\n",
              "      <th>max</th>\n",
              "      <td>0.639964</td>\n",
              "    </tr>\n",
              "  </tbody>\n",
              "</table>\n",
              "</div><br><label><b>dtype:</b> float64</label>"
            ]
          },
          "metadata": {},
          "execution_count": 8
        }
      ]
    },
    {
      "cell_type": "code",
      "source": [
        "smap_daily_interpolated['date'].value_counts()"
      ],
      "metadata": {
        "colab": {
          "base_uri": "https://localhost:8080/",
          "height": 489
        },
        "id": "2HRoDJMnV5wu",
        "outputId": "1cc5399c-ea72-4142-c85b-7da9811e3915"
      },
      "execution_count": null,
      "outputs": [
        {
          "output_type": "execute_result",
          "data": {
            "text/plain": [
              "date\n",
              "2021-01-04    1089\n",
              "2022-04-25    1089\n",
              "2022-04-27    1089\n",
              "2022-04-28    1089\n",
              "2022-04-29    1089\n",
              "              ... \n",
              "2021-09-03    1089\n",
              "2021-09-04    1089\n",
              "2021-09-05    1089\n",
              "2021-09-06    1089\n",
              "2022-12-28    1089\n",
              "Name: count, Length: 724, dtype: int64"
            ],
            "text/html": [
              "<div>\n",
              "<style scoped>\n",
              "    .dataframe tbody tr th:only-of-type {\n",
              "        vertical-align: middle;\n",
              "    }\n",
              "\n",
              "    .dataframe tbody tr th {\n",
              "        vertical-align: top;\n",
              "    }\n",
              "\n",
              "    .dataframe thead th {\n",
              "        text-align: right;\n",
              "    }\n",
              "</style>\n",
              "<table border=\"1\" class=\"dataframe\">\n",
              "  <thead>\n",
              "    <tr style=\"text-align: right;\">\n",
              "      <th></th>\n",
              "      <th>count</th>\n",
              "    </tr>\n",
              "    <tr>\n",
              "      <th>date</th>\n",
              "      <th></th>\n",
              "    </tr>\n",
              "  </thead>\n",
              "  <tbody>\n",
              "    <tr>\n",
              "      <th>2021-01-04</th>\n",
              "      <td>1089</td>\n",
              "    </tr>\n",
              "    <tr>\n",
              "      <th>2022-04-25</th>\n",
              "      <td>1089</td>\n",
              "    </tr>\n",
              "    <tr>\n",
              "      <th>2022-04-27</th>\n",
              "      <td>1089</td>\n",
              "    </tr>\n",
              "    <tr>\n",
              "      <th>2022-04-28</th>\n",
              "      <td>1089</td>\n",
              "    </tr>\n",
              "    <tr>\n",
              "      <th>2022-04-29</th>\n",
              "      <td>1089</td>\n",
              "    </tr>\n",
              "    <tr>\n",
              "      <th>...</th>\n",
              "      <td>...</td>\n",
              "    </tr>\n",
              "    <tr>\n",
              "      <th>2021-09-03</th>\n",
              "      <td>1089</td>\n",
              "    </tr>\n",
              "    <tr>\n",
              "      <th>2021-09-04</th>\n",
              "      <td>1089</td>\n",
              "    </tr>\n",
              "    <tr>\n",
              "      <th>2021-09-05</th>\n",
              "      <td>1089</td>\n",
              "    </tr>\n",
              "    <tr>\n",
              "      <th>2021-09-06</th>\n",
              "      <td>1089</td>\n",
              "    </tr>\n",
              "    <tr>\n",
              "      <th>2022-12-28</th>\n",
              "      <td>1089</td>\n",
              "    </tr>\n",
              "  </tbody>\n",
              "</table>\n",
              "<p>724 rows × 1 columns</p>\n",
              "</div><br><label><b>dtype:</b> int64</label>"
            ]
          },
          "metadata": {},
          "execution_count": 9
        }
      ]
    },
    {
      "cell_type": "code",
      "source": [
        "# number of nan\n",
        "smap_daily_interpolated['soil_moisture'].isna().sum()"
      ],
      "metadata": {
        "colab": {
          "base_uri": "https://localhost:8080/"
        },
        "id": "MIL3G9nfVFYc",
        "outputId": "dd916210-a97b-433d-aa80-cdbffcf751bd"
      },
      "execution_count": null,
      "outputs": [
        {
          "output_type": "execute_result",
          "data": {
            "text/plain": [
              "0"
            ]
          },
          "metadata": {},
          "execution_count": 10
        }
      ]
    },
    {
      "cell_type": "markdown",
      "source": [
        "## RMSE between ESA CCI interpolated and SMAP interpolated"
      ],
      "metadata": {
        "id": "ER_ei6zLY4ih"
      }
    },
    {
      "cell_type": "code",
      "source": [
        "esa_cci_interpolated['date'] = pd.to_datetime(esa_cci_interpolated['date'])\n",
        "esa_cci_interpolated_subset = esa_cci_interpolated[\n",
        "    (esa_cci_interpolated['date'] >= pd.to_datetime('2021-01-04')) &\n",
        "    (esa_cci_interpolated['date'] <= pd.to_datetime('2022-12-28'))\n",
        "]"
      ],
      "metadata": {
        "id": "Ah6Udb13X3Ly"
      },
      "execution_count": null,
      "outputs": []
    },
    {
      "cell_type": "code",
      "source": [
        "# Rmse between esa_cci_interpolated and smap_daily_interpolated\n",
        "rmse = np.sqrt(mean_squared_error(esa_cci_interpolated_subset['soil_moisture'], smap_daily_interpolated['soil_moisture']))\n",
        "rmse"
      ],
      "metadata": {
        "colab": {
          "base_uri": "https://localhost:8080/"
        },
        "id": "DXT-h03-XeWV",
        "outputId": "18f0e700-e91a-4990-8f29-b5538ccf144b"
      },
      "execution_count": null,
      "outputs": [
        {
          "output_type": "execute_result",
          "data": {
            "text/plain": [
              "0.09806631715320886"
            ]
          },
          "metadata": {},
          "execution_count": 40
        }
      ]
    },
    {
      "cell_type": "markdown",
      "source": [
        "This is very close to the difference in the means of the original ESA CCI and SMAP datasets."
      ],
      "metadata": {
        "id": "tYhxXDS8le_X"
      }
    },
    {
      "cell_type": "markdown",
      "source": [
        "# Assimilation using Kalman Filter"
      ],
      "metadata": {
        "id": "UgrJXnPMXGNl"
      }
    },
    {
      "cell_type": "code",
      "source": [
        "# Filtering ESA CCI and SMAP datasets based on the common date range\n",
        "esa_cci_interpolated_subset = esa_cci_interpolated[\n",
        "    (pd.to_datetime(esa_cci_interpolated['date']) >= pd.to_datetime('2021-01-04')) &\n",
        "    (pd.to_datetime(esa_cci_interpolated['date']) <= pd.to_datetime('2022-12-28'))\n",
        "]\n",
        "\n",
        "smap_interpolated_subset = smap_daily_interpolated[\n",
        "    (pd.to_datetime(smap_daily_interpolated['date']) >= pd.to_datetime('2021-01-04')) &\n",
        "    (pd.to_datetime(smap_daily_interpolated['date']) <= pd.to_datetime('2022-12-28'))\n",
        "]\n",
        "\n",
        "# Pivoting datasets to align by spatial grid and time\n",
        "esa_soil_moisture = esa_cci_interpolated_subset.pivot_table(\n",
        "    index='date', columns=['latitude', 'longitude'], values='soil_moisture'\n",
        ")\n",
        "smap_soil_moisture = smap_interpolated_subset.pivot_table(\n",
        "    index='date', columns=['latitude', 'longitude'], values='soil_moisture'\n",
        ")\n",
        "\n",
        "esa_soil_moisture = esa_soil_moisture.sort_index(axis=1).sort_index(axis=0)\n",
        "smap_soil_moisture = smap_soil_moisture.sort_index(axis=1).sort_index(axis=0)\n",
        "\n",
        "# Kalman filter function\n",
        "def kalman_filter(esa_data, smap_data, process_noise=0.01, obs_error=0.05):\n",
        "    \"\"\"\n",
        "    Assimilating soil moisture data using the Kalman Filter\n",
        "    \"\"\"\n",
        "    state = esa_data.iloc[0].values\n",
        "    P = np.eye(len(state)) * 0.1\n",
        "    Q = process_noise\n",
        "    R = obs_error\n",
        "    H = np.eye(len(state))\n",
        "    assimilated_states = []\n",
        "\n",
        "    for t in range(esa_data.shape[0]):\n",
        "        obs = smap_data.iloc[t].values\n",
        "        obs = np.where(np.isnan(obs), np.nanmean(obs), obs)\n",
        "        state_prior = state\n",
        "        P_prior = P + Q * np.eye(len(state))\n",
        "        K = P_prior @ H.T @ np.linalg.inv(H @ P_prior @ H.T + R * np.eye(len(state)))\n",
        "        state = state_prior + K @ (obs - H @ state_prior)\n",
        "        P = (np.eye(len(state)) - K @ H) @ P_prior\n",
        "        assimilated_states.append(state)\n",
        "\n",
        "    return pd.DataFrame(\n",
        "        np.array(assimilated_states),\n",
        "        index=esa_data.index,\n",
        "        columns=esa_data.columns\n",
        "    )\n",
        "\n",
        "# Assimilation\n",
        "assimilated_soil_moisture = kalman_filter(esa_soil_moisture, smap_soil_moisture)\n",
        "output_file_path = 'kalman_assimilated_soil_moisture.csv'\n",
        "assimilated_soil_moisture.to_csv(output_file_path, index=False)"
      ],
      "metadata": {
        "id": "jQJp2ca2XORB"
      },
      "execution_count": null,
      "outputs": []
    }
  ],
  "metadata": {
    "colab": {
      "provenance": []
    },
    "kernelspec": {
      "display_name": "Python 3",
      "name": "python3"
    },
    "language_info": {
      "name": "python"
    }
  },
  "nbformat": 4,
  "nbformat_minor": 0
}